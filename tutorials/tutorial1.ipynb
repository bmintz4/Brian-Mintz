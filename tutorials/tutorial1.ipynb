{
  "cells": [
    {
      "cell_type": "markdown",
      "metadata": {
        "id": "CScGJRChOo61"
      },
      "source": [
        "<a target=\"_blank\" rel=\"noopener noreferrer\" href=\"https://colab.research.google.com/github/epacuit/introduction-machine-learning/blob/main/tutorials/tutorial1.ipynb\">![Open In Colab](https://colab.research.google.com/assets/colab-badge.svg)</a>\n",
        "\n",
        "Before you turn this problem in, make sure everything runs as expected. First, **restart the kernel** (in the menubar, select Kernel $\\rightarrow$ Restart) and then **run all cells** (in the menubar, select Cell $\\rightarrow$ Run All).\n",
        "\n",
        "Make sure you fill in any place that says `YOUR CODE HERE` or \"YOUR ANSWER HERE\", as well as your name and collaborators below:"
      ]
    },
    {
      "cell_type": "code",
      "execution_count": 3,
      "metadata": {
        "id": "F2BDHKOUOo65"
      },
      "outputs": [],
      "source": [
        "NAME = \"Brian Mintz\"\n",
        "COLLABORATORS = \"n/a\""
      ]
    },
    {
      "cell_type": "markdown",
      "metadata": {
        "id": "WdSoyh6zOo67"
      },
      "source": [
        "---"
      ]
    },
    {
      "cell_type": "markdown",
      "metadata": {
        "deletable": false,
        "editable": false,
        "nbgrader": {
          "cell_type": "markdown",
          "checksum": "7147088d87d74f26bc307c7b9649f19d",
          "grade": false,
          "grade_id": "jupyter",
          "locked": true,
          "schema_version": 3,
          "solution": false
        },
        "id": "gzk9CZoXOo67"
      },
      "source": [
        "# Tutorial 1: Introduction to Python\n",
        "\n",
        "In this tutorial, we will cover the basics of Python programming language. We will cover the following topics:\n",
        "\n",
        "* lists\n",
        "* dictionaries\n",
        "* for loops\n",
        "* functions\n",
        "\n",
        "Suppose that we have some data about YouTube videos.  For instance, we have the following data:\n",
        "\n",
        "1. `video_id`: the id of the video\n",
        "2. `title`: the title of the video\n",
        "3. `view_count`: the number of times the video was viewed\n",
        "4. `like_count`: the number of times the video was liked\n",
        "5. `comment_count`: the number of comments on the video\n",
        "6. `duration`: the duration of the video\n",
        "\n",
        "One way to store this information is as a list that contains a list of the 6 elements above. So, it is a list of lists where each inner list contains 6 elements, the first is the video_id, the second is the title, and so on."
      ]
    },
    {
      "cell_type": "code",
      "execution_count": 4,
      "metadata": {
        "deletable": false,
        "editable": false,
        "nbgrader": {
          "cell_type": "code",
          "checksum": "f76b0df97a7dd2422d6861663b6bf8dc",
          "grade": false,
          "grade_id": "cell-c47f08b258a1d9b5",
          "locked": true,
          "schema_version": 3,
          "solution": false,
          "task": false
        },
        "id": "uOg0PTJ6Oo68"
      },
      "outputs": [],
      "source": [
        "data = [['DE1-cD3pTkA', 'Walker Texas Ranger clip LIVE', 224, 1, 0, 'PT32S'],\n",
        " ['XZqSz_X-j8Y', 'Egg mcmuffin of a crappy commercial', 1919, 7, 3, 'PT44S'],\n",
        " ['vzpD6OogahQ', 'Potter Puppet Pals: School Is For Losers', 14958231, 87806, 11321, 'PT33S'],\n",
        " ['_OpzEHBDwQE', 'Very Funny Commercial  Think Beyond Your Ear (UNRELEASED)', 61696,  179, 2, 'PT38S'],\n",
        " ['yzGWOpop6i8', 'Happy Valentines Day', 15852, 315, 77, 'PT1M14S'],\n",
        " ['fCmkdzl6b84', 'Hermione and Scabior - E.T.', 805, 14, 1, 'PT42S'],\n",
        " ['DOD38Y72zyk', 'Minecraft: TNT Rocket', 2174, 16, 3, 'PT1M9S'],\n",
        " ['UYQqu53mFng',\n",
        "  'Gears Of War 3 - Official Trailer (Cenizas a las cenizas) (Ashes to Ashes)',\n",
        "51,0,0,'PT1M15S'],\n",
        " ['c1NaGio2Geo', 'Caller X episode 3', 13716, 525, 130, 'PT1M18S'],\n",
        " ['BpKQEoN5M2g', 'COOLEST GUY ON THE RIDE', 22065, 450, 114, 'PT1M13S']]"
      ]
    },
    {
      "cell_type": "markdown",
      "metadata": {
        "deletable": false,
        "editable": false,
        "nbgrader": {
          "cell_type": "markdown",
          "checksum": "8fbf5878ae0db66a9b558a8058741437",
          "grade": false,
          "grade_id": "cell-0c2e8b045aea2c10",
          "locked": true,
          "schema_version": 3,
          "solution": false,
          "task": false
        },
        "id": "mges7nCeOo68"
      },
      "source": [
        "### 1.  Write a function that accepts a list of the above 6 pieces of information about the videos and return the average number of views of the videos.  "
      ]
    },
    {
      "cell_type": "code",
      "execution_count": 11,
      "metadata": {
        "deletable": false,
        "nbgrader": {
          "cell_type": "code",
          "checksum": "3f91815689c9b480df733cec4edf4177",
          "grade": false,
          "grade_id": "cell-9ed6c693b98c0519",
          "locked": false,
          "schema_version": 3,
          "solution": true,
          "task": false
        },
        "id": "S43bn_KqOo68"
      },
      "outputs": [],
      "source": [
        "def avg_view_count(data):\n",
        "    \"\"\"\n",
        "    This function takes a list of lists as input. Each list contains the following elements: video_id, title, view_count, like_count, comment_count, duration. The function should return the average view count of the videos in the input list.\n",
        "    \"\"\"\n",
        "    x = 0\n",
        "    for vid in data:\n",
        "      x = x + vid[2]\n",
        "\n",
        "    x = 0 if len(data) == 0 else x / len(data)\n",
        "\n",
        "    return x\n"
      ]
    },
    {
      "cell_type": "code",
      "execution_count": 12,
      "metadata": {
        "deletable": false,
        "editable": false,
        "nbgrader": {
          "cell_type": "code",
          "checksum": "e43eafc16866407128736ef36508f8c0",
          "grade": true,
          "grade_id": "cell-7a8c1350fcf9c7a9",
          "locked": true,
          "points": 2,
          "schema_version": 3,
          "solution": false,
          "task": false
        },
        "id": "cliBKPiwOo69"
      },
      "outputs": [],
      "source": [
        "\"\"\"Check that the output is correct\"\"\"\n",
        "assert avg_view_count(data) == 1507673.3\n",
        "assert avg_view_count(data[0:5]) == 3007584.4\n",
        "assert avg_view_count([data[0]]) == 224.0\n",
        "assert avg_view_count([]) == 0\n"
      ]
    },
    {
      "cell_type": "markdown",
      "metadata": {
        "deletable": false,
        "editable": false,
        "nbgrader": {
          "cell_type": "markdown",
          "checksum": "071663c9b56430b5dfd55fa43913bfa9",
          "grade": false,
          "grade_id": "cell-c5ee98e1b6083107",
          "locked": true,
          "schema_version": 3,
          "solution": false,
          "task": false
        },
        "id": "cLgQfjYlOo69"
      },
      "source": [
        "### 2.  Write a function that accepts a list of the above 6 pieces of information about the videos and return the average number of likes of the videos.  "
      ]
    },
    {
      "cell_type": "code",
      "execution_count": 13,
      "metadata": {
        "deletable": false,
        "nbgrader": {
          "cell_type": "code",
          "checksum": "93d370903de31ec9966c1b4d106c8aac",
          "grade": false,
          "grade_id": "cell-fe8a935c32a0c985",
          "locked": false,
          "schema_version": 3,
          "solution": true,
          "task": false
        },
        "id": "PuPEGohxOo6-"
      },
      "outputs": [],
      "source": [
        "def avg_num_likes(data):\n",
        "    \"\"\"\n",
        "    This function takes a list of lists as input. Each list contains the following elements: video_id, title, view_count, like_count, comment_count, duration. The function should return the average number of likes of the videos in the input list.\n",
        "    \"\"\"\n",
        "    x = 0\n",
        "    for vid in data:\n",
        "      x = x + vid[3]\n",
        "\n",
        "    x = 0 if len(data) == 0 else x / len(data)\n",
        "\n",
        "    return x\n"
      ]
    },
    {
      "cell_type": "code",
      "execution_count": 14,
      "metadata": {
        "deletable": false,
        "editable": false,
        "nbgrader": {
          "cell_type": "code",
          "checksum": "1879e84cf3abd3bb07a14cf387df8296",
          "grade": true,
          "grade_id": "cell-1443f663dce81a59",
          "locked": true,
          "points": 2,
          "schema_version": 3,
          "solution": false,
          "task": false
        },
        "id": "RasX7euzOo6-"
      },
      "outputs": [],
      "source": [
        "\"\"\"Check that the output is correct\"\"\"\n",
        "assert avg_num_likes(data) == 8931.3\n",
        "assert avg_num_likes(data[0:5]) == 17661.6\n",
        "assert avg_num_likes([data[0]]) == data[0][3]\n",
        "assert avg_num_likes([]) == 0\n"
      ]
    },
    {
      "cell_type": "markdown",
      "metadata": {
        "deletable": false,
        "editable": false,
        "nbgrader": {
          "cell_type": "markdown",
          "checksum": "5f074b9f50584e2f9a416224477e63c9",
          "grade": false,
          "grade_id": "cell-6e926bfad598a52e",
          "locked": true,
          "schema_version": 3,
          "solution": false,
          "task": false
        },
        "id": "vn9IPo6OOo6-"
      },
      "source": [
        "### 3. Write a function that accepts a list of the above 6 pieces of information about the videos and returns a dictionary with the keys the id of the video and the value the number of likes."
      ]
    },
    {
      "cell_type": "code",
      "execution_count": 17,
      "metadata": {
        "deletable": false,
        "nbgrader": {
          "cell_type": "code",
          "checksum": "c9b1132c9c900507f996a5289212944e",
          "grade": false,
          "grade_id": "cell-d6d14cca574aa167",
          "locked": false,
          "schema_version": 3,
          "solution": true,
          "task": false
        },
        "id": "5K5dxiaxOo6-"
      },
      "outputs": [],
      "source": [
        "def lists_to_dict(data):\n",
        "    \"\"\"\n",
        "    This function takes a list of lists as input. Each list contains the following elements: video_id, title, view_count, like_count, comment_count, duration. The function should return a dictionary where the keys are the video_id and the values are the corresponding lists.\n",
        "    \"\"\"\n",
        "    x = {}\n",
        "    for vid in data:\n",
        "      x[vid[0]] = vid[3]\n",
        "\n",
        "    return x\n"
      ]
    },
    {
      "cell_type": "code",
      "execution_count": 18,
      "metadata": {
        "deletable": false,
        "editable": false,
        "nbgrader": {
          "cell_type": "code",
          "checksum": "2340b03275ef75eb343bc77e231f0fc0",
          "grade": true,
          "grade_id": "cell-055dd16eeee0ad9f",
          "locked": true,
          "points": 2,
          "schema_version": 3,
          "solution": false,
          "task": false
        },
        "id": "ydwzmIBfOo6_"
      },
      "outputs": [],
      "source": [
        "\"\"\"check that the output is correct\"\"\"\n",
        "assert lists_to_dict(data) == {'DE1-cD3pTkA': 1,\n",
        "                               'XZqSz_X-j8Y': 7,\n",
        "                               'vzpD6OogahQ': 87806,\n",
        "                               '_OpzEHBDwQE': 179,\n",
        "                               'yzGWOpop6i8': 315,\n",
        "                               'fCmkdzl6b84': 14,\n",
        "                               'DOD38Y72zyk': 16,\n",
        "                               'UYQqu53mFng': 0,\n",
        "                               'c1NaGio2Geo': 525,\n",
        "                               'BpKQEoN5M2g': 450}\n",
        "assert lists_to_dict(data[0:5]) == {'DE1-cD3pTkA': 1,\n",
        "                                    'XZqSz_X-j8Y': 7,\n",
        "                                    'vzpD6OogahQ': 87806,\n",
        "                                    '_OpzEHBDwQE': 179,\n",
        "                                    'yzGWOpop6i8': 315}\n",
        "assert lists_to_dict([]) == {}\n"
      ]
    },
    {
      "cell_type": "markdown",
      "metadata": {
        "deletable": false,
        "editable": false,
        "nbgrader": {
          "cell_type": "markdown",
          "checksum": "802dda61695e7065ec71bbec29f63550",
          "grade": false,
          "grade_id": "cell-0d0d28abbbec68ba",
          "locked": true,
          "schema_version": 3,
          "solution": false,
          "task": false
        },
        "id": "LIESy0-uOo6_"
      },
      "source": [
        "### 4. Write a function that accepts a list of the above 6 pieces of information about the videos and returns the title with the most likes."
      ]
    },
    {
      "cell_type": "code",
      "execution_count": 7,
      "metadata": {
        "deletable": false,
        "nbgrader": {
          "cell_type": "code",
          "checksum": "ae40568c693fd851b01ee1f63f0bc203",
          "grade": false,
          "grade_id": "cell-e7a5d3cc1e7a871d",
          "locked": false,
          "schema_version": 3,
          "solution": true,
          "task": false
        },
        "id": "tn1_EYyhOo6_"
      },
      "outputs": [],
      "source": [
        "def find_most_popular(data):\n",
        "    \"\"\"\n",
        "    This function takes a list of lists as input. Each list contains the following elements: video_id, title, view_count, like_count, comment_count, duration. The function should return the title of the video with the highest view count.\n",
        "    \"\"\"\n",
        "    max = -1\n",
        "    maxTitle = \"\"\n",
        "    for vid in data:\n",
        "      if vid[2] > max:\n",
        "        max = vid[2]\n",
        "        maxTitle = vid[1]\n",
        "\n",
        "    return maxTitle"
      ]
    },
    {
      "cell_type": "code",
      "execution_count": 8,
      "metadata": {
        "deletable": false,
        "editable": false,
        "nbgrader": {
          "cell_type": "code",
          "checksum": "cac228e1e775f80b04a447d3f45851da",
          "grade": true,
          "grade_id": "cell-ae4cb0a4bd2e5811",
          "locked": true,
          "points": 2,
          "schema_version": 3,
          "solution": false,
          "task": false
        },
        "id": "4z0EEWNhOo6_"
      },
      "outputs": [],
      "source": [
        "assert find_most_popular(data) == 'Potter Puppet Pals: School Is For Losers'\n",
        "assert find_most_popular(data[0:5]) == 'Potter Puppet Pals: School Is For Losers'\n",
        "assert find_most_popular(data[5::]) == 'COOLEST GUY ON THE RIDE'"
      ]
    },
    {
      "cell_type": "markdown",
      "metadata": {
        "deletable": false,
        "editable": false,
        "nbgrader": {
          "cell_type": "markdown",
          "checksum": "0a0ac5541a01252183a4ef9843c4d493",
          "grade": false,
          "grade_id": "cell-752b8ea0be1cd3e8",
          "locked": true,
          "schema_version": 3,
          "solution": false,
          "task": false
        },
        "id": "rwYlVSQROo6_"
      },
      "source": [
        "### 5. Write a function that accepts a list of the above 6 pieces of information about the videos and returns the title with the most likes, using the `sorted` function."
      ]
    },
    {
      "cell_type": "code",
      "execution_count": 23,
      "metadata": {
        "deletable": false,
        "nbgrader": {
          "cell_type": "code",
          "checksum": "f0c38697f53fbbba0055f47f17abed06",
          "grade": false,
          "grade_id": "cell-0ad7e4ada3f837ec",
          "locked": false,
          "schema_version": 3,
          "solution": true,
          "task": false
        },
        "id": "uoSohSEBOo6_"
      },
      "outputs": [],
      "source": [
        "def find_most_popular_using_sorted(data):\n",
        "    \"\"\"\n",
        "    This function takes a list of lists as input. Each list contains the following elements: video_id, title, view_count, like_count, comment_count, duration. The function should return the title of the video with the highest view count.\n",
        "    \"\"\"\n",
        "    x = data\n",
        "\n",
        "    x = sorted(x, reverse=True, key=lambda video: video[2])\n",
        "\n",
        "    return x[0][1]\n"
      ]
    },
    {
      "cell_type": "code",
      "execution_count": 22,
      "metadata": {
        "deletable": false,
        "editable": false,
        "nbgrader": {
          "cell_type": "code",
          "checksum": "f48c290a7bb4deef8ac074a02c55ce6e",
          "grade": true,
          "grade_id": "cell-d62da9ce7ff9404b",
          "locked": true,
          "points": 2,
          "schema_version": 3,
          "solution": false,
          "task": false
        },
        "id": "HCMzrk6tOo6_",
        "outputId": "74330496-f26c-450f-e94d-0f55cec4c4dc",
        "colab": {
          "base_uri": "https://localhost:8080/"
        }
      },
      "outputs": [
        {
          "output_type": "stream",
          "name": "stdout",
          "text": [
            "[['vzpD6OogahQ', 'Potter Puppet Pals: School Is For Losers', 14958231, 87806, 11321, 'PT33S'], ['_OpzEHBDwQE', 'Very Funny Commercial  Think Beyond Your Ear (UNRELEASED)', 61696, 179, 2, 'PT38S'], ['BpKQEoN5M2g', 'COOLEST GUY ON THE RIDE', 22065, 450, 114, 'PT1M13S'], ['yzGWOpop6i8', 'Happy Valentines Day', 15852, 315, 77, 'PT1M14S'], ['c1NaGio2Geo', 'Caller X episode 3', 13716, 525, 130, 'PT1M18S'], ['DOD38Y72zyk', 'Minecraft: TNT Rocket', 2174, 16, 3, 'PT1M9S'], ['XZqSz_X-j8Y', 'Egg mcmuffin of a crappy commercial', 1919, 7, 3, 'PT44S'], ['fCmkdzl6b84', 'Hermione and Scabior - E.T.', 805, 14, 1, 'PT42S'], ['DE1-cD3pTkA', 'Walker Texas Ranger clip LIVE', 224, 1, 0, 'PT32S'], ['UYQqu53mFng', 'Gears Of War 3 - Official Trailer (Cenizas a las cenizas) (Ashes to Ashes)', 51, 0, 0, 'PT1M15S']]\n",
            "Potter Puppet Pals: School Is For Losers\n",
            "[['vzpD6OogahQ', 'Potter Puppet Pals: School Is For Losers', 14958231, 87806, 11321, 'PT33S'], ['_OpzEHBDwQE', 'Very Funny Commercial  Think Beyond Your Ear (UNRELEASED)', 61696, 179, 2, 'PT38S'], ['yzGWOpop6i8', 'Happy Valentines Day', 15852, 315, 77, 'PT1M14S'], ['XZqSz_X-j8Y', 'Egg mcmuffin of a crappy commercial', 1919, 7, 3, 'PT44S'], ['DE1-cD3pTkA', 'Walker Texas Ranger clip LIVE', 224, 1, 0, 'PT32S']]\n",
            "Potter Puppet Pals: School Is For Losers\n",
            "[['BpKQEoN5M2g', 'COOLEST GUY ON THE RIDE', 22065, 450, 114, 'PT1M13S'], ['c1NaGio2Geo', 'Caller X episode 3', 13716, 525, 130, 'PT1M18S'], ['DOD38Y72zyk', 'Minecraft: TNT Rocket', 2174, 16, 3, 'PT1M9S'], ['fCmkdzl6b84', 'Hermione and Scabior - E.T.', 805, 14, 1, 'PT42S'], ['UYQqu53mFng', 'Gears Of War 3 - Official Trailer (Cenizas a las cenizas) (Ashes to Ashes)', 51, 0, 0, 'PT1M15S']]\n",
            "COOLEST GUY ON THE RIDE\n"
          ]
        }
      ],
      "source": [
        "assert find_most_popular_using_sorted(data) == 'Potter Puppet Pals: School Is For Losers'\n",
        "assert find_most_popular_using_sorted(data[0:5]) == 'Potter Puppet Pals: School Is For Losers'\n",
        "assert find_most_popular_using_sorted(data[5::]) == 'COOLEST GUY ON THE RIDE'"
      ]
    },
    {
      "cell_type": "markdown",
      "metadata": {
        "deletable": false,
        "editable": false,
        "nbgrader": {
          "cell_type": "markdown",
          "checksum": "7ef45ba1aea804954d10cb317fc4317b",
          "grade": false,
          "grade_id": "cell-d8be02e5dd704239",
          "locked": true,
          "schema_version": 3,
          "solution": false,
          "task": false
        },
        "id": "6UR7eXUDOo7A"
      },
      "source": [
        "### 6. Write a function that accepts a list of the above 6 pieces of information about the videos and a video id and returns the title of the video and the number of likes."
      ]
    },
    {
      "cell_type": "code",
      "execution_count": 24,
      "metadata": {
        "deletable": false,
        "nbgrader": {
          "cell_type": "code",
          "checksum": "51837d133b852030bc868e54dd9eeef3",
          "grade": false,
          "grade_id": "cell-0b776f477ae9a568",
          "locked": false,
          "schema_version": 3,
          "solution": true,
          "task": false
        },
        "id": "g71rWxlkOo7A"
      },
      "outputs": [],
      "source": [
        "def get_title_num_likes(data, video_id):\n",
        "    \"\"\"\n",
        "    This function takes a list of lists as input and a video_id. Each list contains the following elements: video_id, title, view_count, like_count, comment_count, duration. The function should return the title of the video and the number of likes.\n",
        "    \"\"\"\n",
        "\n",
        "    for i in range(len(data)):\n",
        "      if data[i][0] == video_id:\n",
        "        return (data[i][1], data[i][3])\n",
        "\n",
        "    return None\n"
      ]
    },
    {
      "cell_type": "code",
      "execution_count": 25,
      "metadata": {
        "deletable": false,
        "editable": false,
        "nbgrader": {
          "cell_type": "code",
          "checksum": "1cdd2f7b68551ec1be2a99040b54cdc9",
          "grade": true,
          "grade_id": "cell-0adc9a281ce15333",
          "locked": true,
          "points": 2,
          "schema_version": 3,
          "solution": false,
          "task": false
        },
        "id": "V4IBg0suOo7A"
      },
      "outputs": [],
      "source": [
        "\"\"\"Check that the output is correct\"\"\"\n",
        "\n",
        "assert get_title_num_likes(data, '_OpzEHBDwQE') == ('Very Funny Commercial  Think Beyond Your Ear (UNRELEASED)', 179)\n",
        "assert get_title_num_likes(data, 'yzGWOpop6i8') == ('Happy Valentines Day', 315)\n",
        "assert get_title_num_likes(data, 'test') is None\n"
      ]
    }
  ],
  "metadata": {
    "kernelspec": {
      "display_name": "Python 3 (ipykernel)",
      "language": "python",
      "name": "python3"
    },
    "language_info": {
      "codemirror_mode": {
        "name": "ipython",
        "version": 3
      },
      "file_extension": ".py",
      "mimetype": "text/x-python",
      "name": "python",
      "nbconvert_exporter": "python",
      "pygments_lexer": "ipython3",
      "version": "3.12.7"
    },
    "colab": {
      "provenance": []
    }
  },
  "nbformat": 4,
  "nbformat_minor": 0
}